{
 "cells": [
  {
   "cell_type": "code",
   "execution_count": null,
   "id": "f4ff5374",
   "metadata": {},
   "outputs": [],
   "source": [
    "# ANS 1 What is list? How will you reverse a list.\n",
    "# list is one of the data type in python.list is used to store multiple items in a single variable.\n",
    "# it is be denoted by square bracket[].\n",
    "# list can be reversed by using the method called \".reverse()\""
   ]
  },
  {
   "cell_type": "code",
   "execution_count": null,
   "id": "30731271",
   "metadata": {},
   "outputs": [],
   "source": [
    "# ANS 2 how will you remove last object from a list?\n",
    "# last object from the list can be removed by using \".pop()\" method."
   ]
  },
  {
   "cell_type": "code",
   "execution_count": 1,
   "id": "da1f6f76",
   "metadata": {},
   "outputs": [
    {
     "data": {
      "text/plain": [
       "25"
      ]
     },
     "execution_count": 1,
     "metadata": {},
     "output_type": "execute_result"
    }
   ],
   "source": [
    "# ANS 3 What is list[-1]\n",
    "list1 = [2,33,222,14,25]\n",
    "list1[-1]"
   ]
  },
  {
   "cell_type": "code",
   "execution_count": null,
   "id": "c44a7472",
   "metadata": {},
   "outputs": [],
   "source": [
    "# ANS 4 Diffrence between .append() and .extend() method\n",
    "# append() method adds an element as 1 element while extend method can only add iterables as an individuals"
   ]
  },
  {
   "cell_type": "code",
   "execution_count": null,
   "id": "a3b4847f",
   "metadata": {},
   "outputs": [],
   "source": [
    "# ANS 5 Write a python function to get a the largest number ,smallest num and sum of all from a list\n"
   ]
  },
  {
   "cell_type": "code",
   "execution_count": 2,
   "id": "3969127c",
   "metadata": {},
   "outputs": [
    {
     "name": "stdout",
     "output_type": "stream",
     "text": [
      "both list are different\n"
     ]
    }
   ],
   "source": [
    "# ANS 6 How will you compare two list?\n",
    "list2 = [12,23,34,45,56]\n",
    "list3 = [67,56,34,23,99]\n",
    "list2.sort()\n",
    "list3.sort()\n",
    "if list2 == list3:\n",
    "    print(' both list are same')\n",
    "else:\n",
    "    print('both list are different')"
   ]
  },
  {
   "cell_type": "code",
   "execution_count": 3,
   "id": "46c0bc3e",
   "metadata": {},
   "outputs": [
    {
     "data": {
      "text/plain": [
       "2"
      ]
     },
     "execution_count": 3,
     "metadata": {},
     "output_type": "execute_result"
    }
   ],
   "source": [
    "# ANS 7 Write a python program to count the number of strings where the string length is 2 or more and the first \n",
    "# and last character are same from a given list of string\n",
    "list5 = ['abc' , 'xyz' , 'aba' , '1221']\n",
    "len([ele for ele in list5 if (len(ele) >= 2 and ele[-1] == ele [0])])"
   ]
  },
  {
   "cell_type": "code",
   "execution_count": 4,
   "id": "b63ca421",
   "metadata": {},
   "outputs": [
    {
     "name": "stdout",
     "output_type": "stream",
     "text": [
      "[{33, 34, 67, 3, 23, 12}]\n"
     ]
    }
   ],
   "source": [
    "# ANS 8 Write a python program to remove duplicate from a list\n",
    "list2 = [{12,23,33,33,34,3,33,67}]\n",
    "print(list2)"
   ]
  },
  {
   "cell_type": "code",
   "execution_count": 5,
   "id": "857fac37",
   "metadata": {},
   "outputs": [
    {
     "name": "stdout",
     "output_type": "stream",
     "text": [
      "list is empty\n"
     ]
    }
   ],
   "source": [
    "# ANS 9 Write a python program to check a list is empty or not\n",
    "list3 = []\n",
    "if (len(list3) == 0):\n",
    "    print('list is empty')\n",
    "else:\n",
    "    print('list has an element')"
   ]
  },
  {
   "cell_type": "code",
   "execution_count": null,
   "id": "5ab81ee7",
   "metadata": {},
   "outputs": [],
   "source": [
    "# ANS 10 Write a python function that takes two list and return true if they have atleast one common value\n"
   ]
  },
  {
   "cell_type": "code",
   "execution_count": 6,
   "id": "97bb1078",
   "metadata": {},
   "outputs": [
    {
     "name": "stdout",
     "output_type": "stream",
     "text": [
      "[1, 4, 9, 16, 676, 729, 784, 841, 900]\n"
     ]
    }
   ],
   "source": [
    "# ANS 11 Write a python program to generate and print a list of first and last 5 elements where the values are square \n",
    "# of numbers between 1 to 30.\n",
    "list5 = []\n",
    "for i in range(1,31):\n",
    "    if (i<5 or (i>25 and i<=30)):\n",
    "        list5.append(i*i)\n",
    "print(list5)        "
   ]
  },
  {
   "cell_type": "code",
   "execution_count": 7,
   "id": "b659b11b",
   "metadata": {},
   "outputs": [
    {
     "name": "stdout",
     "output_type": "stream",
     "text": [
      "{34, 3, 4, 5, 6, 12}\n"
     ]
    }
   ],
   "source": [
    "# ANS 12 Write a python function that takes a list and return a new list with unique element of the first list\n",
    "list12 = [12 , 12, 3 , 4, 5 , 6, 34 , 34]\n",
    "d = set(list12)\n",
    "print(d)"
   ]
  },
  {
   "cell_type": "code",
   "execution_count": 3,
   "id": "776de603",
   "metadata": {},
   "outputs": [
    {
     "name": "stdout",
     "output_type": "stream",
     "text": [
      "abcde\n"
     ]
    }
   ],
   "source": [
    "#ANS 13 Write a python program to convert a list of character into a string\n",
    "list00 = ['a' , 'b' , 'c' , 'd' , 'e']\n",
    "str = ''\n",
    "for i in list00:\n",
    "    str += i\n",
    "print(str)    \n",
    "    "
   ]
  },
  {
   "cell_type": "code",
   "execution_count": 5,
   "id": "83df4238",
   "metadata": {},
   "outputs": [],
   "source": [
    "#ANS 14 Write a python program to select an item randomly from a list\n"
   ]
  },
  {
   "cell_type": "code",
   "execution_count": 8,
   "id": "c35afdfd",
   "metadata": {},
   "outputs": [
    {
     "name": "stdout",
     "output_type": "stream",
     "text": [
      "33\n"
     ]
    }
   ],
   "source": [
    "#ANS 15 Write  a python program to find a second smallest no.in list\n",
    "list1 = [ 34,45,77,46,47,33,12,99]\n",
    "list1.sort()\n",
    "print(list1[1])"
   ]
  },
  {
   "cell_type": "code",
   "execution_count": 9,
   "id": "cd3ee2f3",
   "metadata": {},
   "outputs": [
    {
     "name": "stdout",
     "output_type": "stream",
     "text": [
      "{34, 3, 4, 5, 6, 12}\n"
     ]
    }
   ],
   "source": [
    "#ANS 16 Write a python program to get uniqe value from list\n",
    "list15 = [12 , 12, 3 , 4, 5 , 6, 34 , 34]\n",
    "s = set(list12)\n",
    "print(s)"
   ]
  },
  {
   "cell_type": "code",
   "execution_count": 10,
   "id": "54b79172",
   "metadata": {},
   "outputs": [
    {
     "name": "stdout",
     "output_type": "stream",
     "text": [
      "list is present\n"
     ]
    }
   ],
   "source": [
    "#ANS 17 Write a python program to check whether a list contains a sub list\n",
    "list33 = [[11,22,33] , [1,2,3], [23,45,54]]\n",
    "sublist = [1,2,3]\n",
    "if sublist in list33:\n",
    "    print('list is present')\n",
    "else:\n",
    "    print('list is not present')"
   ]
  },
  {
   "cell_type": "code",
   "execution_count": 11,
   "id": "266dbed6",
   "metadata": {},
   "outputs": [
    {
     "name": "stdout",
     "output_type": "stream",
     "text": [
      "10\n"
     ]
    }
   ],
   "source": [
    "#ANS 18 Write a python progran to split a list into different variables\n",
    "a, b , c , d = ['10' , '20' , '30' , '40']\n",
    "print(a)"
   ]
  },
  {
   "cell_type": "code",
   "execution_count": null,
   "id": "d4b82e8f",
   "metadata": {},
   "outputs": [],
   "source": [
    "#ANS 19 What is tuple,diff.tuple and list\n",
    "# Tuple is a Immutable,Ordered,and Indexed data type.\n",
    "# Tuple data type allows duplicate elements also.\n",
    "# In tuple data type we can use all data type as a element.\n",
    "# DIFFERENCE: Tuple:it is Immutable data type , so can not change any element.\n",
    "#             list :it is Mutable data type ,so possible to change a list as per required."
   ]
  },
  {
   "cell_type": "code",
   "execution_count": 12,
   "id": "f3d3da43",
   "metadata": {},
   "outputs": [],
   "source": [
    "#ANS 20 Write a python program to create  a tuple with diff. data type\n",
    "tup1 = ( 1 , 'hello' , 1.2 , True , (1,2,3) , [7,8,9] , {4,5,6} , {12:23,23:44})"
   ]
  },
  {
   "cell_type": "code",
   "execution_count": 13,
   "id": "af95c64b",
   "metadata": {},
   "outputs": [
    {
     "name": "stdout",
     "output_type": "stream",
     "text": [
      "('10', '20', '30', '40', '50')\n"
     ]
    }
   ],
   "source": [
    "#ANS 21 Write a pytho program to create a tuple with number\n",
    "tup2 = '10','20','30','40','50'\n",
    "print(tup2)"
   ]
  },
  {
   "cell_type": "code",
   "execution_count": 14,
   "id": "70aab2f3",
   "metadata": {},
   "outputs": [
    {
     "name": "stdout",
     "output_type": "stream",
     "text": [
      "hellohiihow\n"
     ]
    }
   ],
   "source": [
    "#ANS 22 Write a python program to convert tuple to a string\n",
    "tup3 = ('hello' , 'hii' , 'how' )\n",
    "s1 = ''\n",
    "for i in tup3:\n",
    "    s1 += i\n",
    "print(s1)    "
   ]
  },
  {
   "cell_type": "code",
   "execution_count": 15,
   "id": "335ab0a6",
   "metadata": {},
   "outputs": [
    {
     "name": "stdout",
     "output_type": "stream",
     "text": [
      "tuple is empty\n"
     ]
    }
   ],
   "source": [
    "#ANS 23 Write a python program to check whether a element exists in a tuple\n",
    "tup4 = ()\n",
    "if len(tup4) != 0:\n",
    "    print('element exists in a tuple')\n",
    "else:\n",
    "    print('tuple is empty')"
   ]
  },
  {
   "cell_type": "code",
   "execution_count": 16,
   "id": "79b1bad2",
   "metadata": {},
   "outputs": [
    {
     "data": {
      "text/plain": [
       "8"
      ]
     },
     "execution_count": 16,
     "metadata": {},
     "output_type": "execute_result"
    }
   ],
   "source": [
    "#ANS 24 Write a python program to find the length of tuple\n",
    "tup5 = ( 1 , 'hello' , 1.2 , True , (1,2,3) , [7,8,9] , {4,5,6} , {12:23,23:44})\n",
    "len(tup5)"
   ]
  },
  {
   "cell_type": "code",
   "execution_count": 17,
   "id": "4a5cc471",
   "metadata": {},
   "outputs": [
    {
     "name": "stdout",
     "output_type": "stream",
     "text": [
      "(11, 23, [55, 66], 'hmmm')\n"
     ]
    }
   ],
   "source": [
    "#ANS 25 Write a python program to convert list to a tuple\n",
    "list66 = [11,23,[55,66],'hmmm']\n",
    "k = tuple(list66)\n",
    "print(k)"
   ]
  },
  {
   "cell_type": "code",
   "execution_count": 18,
   "id": "403c66db",
   "metadata": {},
   "outputs": [
    {
     "name": "stdout",
     "output_type": "stream",
     "text": [
      "(60, 50, 40, 30, 20, 10)\n"
     ]
    }
   ],
   "source": [
    "#ANS 26 Write a python program to reverse a tuple \n",
    "tup7 = (10,20,30,40,50,60)\n",
    "b = tup7[::-1]\n",
    "print(b)"
   ]
  },
  {
   "cell_type": "code",
   "execution_count": 19,
   "id": "2f3a7093",
   "metadata": {},
   "outputs": [
    {
     "name": "stdout",
     "output_type": "stream",
     "text": [
      "[12, 23, 33, 44, 55, 'how']\n"
     ]
    }
   ],
   "source": [
    "#ANS 27 Write a python program to replace last value of tuple in a list\n",
    "tup11 = (12,23,33,44,55,60)\n",
    "a = list(tup11)\n",
    "a.pop(-1)\n",
    "a.append('how')\n",
    "print(a)"
   ]
  },
  {
   "cell_type": "code",
   "execution_count": 20,
   "id": "6850a589",
   "metadata": {},
   "outputs": [
    {
     "name": "stdout",
     "output_type": "stream",
     "text": [
      "[5, 6]\n"
     ]
    }
   ],
   "source": [
    "#ANS 28 Write a python program to find the repeated items of a tuple\n",
    "tup5 = ( 5,6,7,5,6,33,55,99)\n",
    "list34 = []\n",
    "for i in tup5:\n",
    "    if tup5.count(i) > 1:\n",
    "        if i not in list34:\n",
    "            list34.append(i)\n",
    "print(list34)            "
   ]
  },
  {
   "cell_type": "code",
   "execution_count": 21,
   "id": "d25d756d",
   "metadata": {},
   "outputs": [
    {
     "name": "stdout",
     "output_type": "stream",
     "text": [
      "['1', '22', '34', 'form']\n"
     ]
    }
   ],
   "source": [
    "#ANS 29 Write python program to remove a empty tuple(s) from a list of tuple\n",
    "list22 = [() ,'1', '22', '34' , 'form']\n",
    "n = list22.remove(())\n",
    "print(list22)"
   ]
  },
  {
   "cell_type": "code",
   "execution_count": null,
   "id": "1ee5ada8",
   "metadata": {},
   "outputs": [],
   "source": [
    "#ANS 30 Write a python program to unzip a list of tuples into individual lists"
   ]
  },
  {
   "cell_type": "code",
   "execution_count": 22,
   "id": "67e867f9",
   "metadata": {},
   "outputs": [
    {
     "data": {
      "text/plain": [
       "{45: 'hmm', 56: 'dmmm'}"
      ]
     },
     "execution_count": 22,
     "metadata": {},
     "output_type": "execute_result"
    }
   ],
   "source": [
    "#ANS 31 Write a python program to convert a list of tuples into a dictionary\n",
    "tup0 = ([45,'hmm'],[56,'dmmm'])\n",
    "dict(tup0)"
   ]
  },
  {
   "cell_type": "code",
   "execution_count": 1,
   "id": "c0f4796c",
   "metadata": {},
   "outputs": [
    {
     "name": "stdout",
     "output_type": "stream",
     "text": [
      "{5: 'hmm', 6: 'joker', 7: 'new'}\n"
     ]
    }
   ],
   "source": [
    "#ANS 32 How will you create dictionary using tuple in python\n",
    "tup9 = ((5 ,'hmm') , (6 ,'joker') , (7 , 'new'))\n",
    "print(dict(tup9))"
   ]
  },
  {
   "cell_type": "code",
   "execution_count": 8,
   "id": "842d477e",
   "metadata": {},
   "outputs": [
    {
     "name": "stdout",
     "output_type": "stream",
     "text": [
      "ascending= {'parth': 1, 'sagar': 23, 'yash': 12}\n",
      "descending= {'yash': 12, 'sagar': 23, 'parth': 1}\n"
     ]
    }
   ],
   "source": [
    "#ANS 33 Write a python script to sort(ascending and descending) a dictionary by value\n",
    "dict10 = { 'yash' : 12 , 'sagar' : 23 , 'parth' : 1 }\n",
    "dict11 = dict12 = list(dict10.items())\n",
    "dict11.sort()\n",
    "print('ascending=' ,dict(dict11))\n",
    "dict12.sort(reverse = True)\n",
    "print('descending=' ,dict(dict12))"
   ]
  },
  {
   "cell_type": "code",
   "execution_count": 23,
   "id": "fde6f29c",
   "metadata": {},
   "outputs": [
    {
     "name": "stdout",
     "output_type": "stream",
     "text": [
      "{1: 2, 2: 3, 4: 5, 6: 7}\n"
     ]
    }
   ],
   "source": [
    "#ANS 34 Write a python script to concatenate following dictionary to create a new one\n",
    "dict1 = {1:2,2:3}\n",
    "dict2 = {4:5,6:7}\n",
    "dict1.update(dict2)\n",
    "print(dict1)"
   ]
  },
  {
   "cell_type": "code",
   "execution_count": 2,
   "id": "3e5d929d",
   "metadata": {},
   "outputs": [
    {
     "name": "stdout",
     "output_type": "stream",
     "text": [
      "4\n",
      "key is exist\n"
     ]
    }
   ],
   "source": [
    "#ANS 35 Write a python script to check if a given key already exists in a dictionary\n",
    "dict0 = {'1':'sachin' , '2':'boni', '3':'preet','4':'hello'}\n",
    "key = input()\n",
    "if key in dict0:\n",
    "    print('key is exist')\n",
    "else:\n",
    "    print('key is not exist')"
   ]
  },
  {
   "cell_type": "code",
   "execution_count": 4,
   "id": "4c28bd4d",
   "metadata": {},
   "outputs": [
    {
     "name": "stdout",
     "output_type": "stream",
     "text": [
      "{1: 2, 2: 3, 4: 5, 6: 7}\n"
     ]
    }
   ],
   "source": [
    "#ANS 36 Write a python script to merge two python dictionaries\n",
    "dict1 = {1:2,2:3}\n",
    "dict2 = {4:5,6:7}\n",
    "dict1.update(dict2)\n",
    "print(dict1)"
   ]
  },
  {
   "cell_type": "code",
   "execution_count": 5,
   "id": "475abd54",
   "metadata": {},
   "outputs": [],
   "source": [
    "#ANS 37 Write a python program to map two lists into a dictionary"
   ]
  },
  {
   "cell_type": "code",
   "execution_count": null,
   "id": "924580ae",
   "metadata": {},
   "outputs": [],
   "source": []
  }
 ],
 "metadata": {
  "kernelspec": {
   "display_name": "Python 3 (ipykernel)",
   "language": "python",
   "name": "python3"
  },
  "language_info": {
   "codemirror_mode": {
    "name": "ipython",
    "version": 3
   },
   "file_extension": ".py",
   "mimetype": "text/x-python",
   "name": "python",
   "nbconvert_exporter": "python",
   "pygments_lexer": "ipython3",
   "version": "3.9.13"
  }
 },
 "nbformat": 4,
 "nbformat_minor": 5
}
