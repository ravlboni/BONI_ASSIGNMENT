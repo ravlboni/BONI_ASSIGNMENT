{
 "cells": [
  {
   "cell_type": "code",
   "execution_count": 1,
   "id": "7d4f5d0e",
   "metadata": {},
   "outputs": [
    {
     "name": "stdout",
     "output_type": "stream",
     "text": [
      "9\n",
      "positive\n"
     ]
    }
   ],
   "source": [
    "# ANS 1\n",
    "var1=int(input())\n",
    "if var1>=0:\n",
    "    if var1==0:\n",
    "        print('neutral')\n",
    "    elif var1>=0:\n",
    "        print('positive')\n",
    "else:\n",
    "    print('negative')"
   ]
  },
  {
   "cell_type": "code",
   "execution_count": 3,
   "id": "5aacffaa",
   "metadata": {},
   "outputs": [
    {
     "name": "stdout",
     "output_type": "stream",
     "text": [
      "6\n",
      "720\n"
     ]
    }
   ],
   "source": [
    "# ANS 2 \n",
    "var1 = int(input())\n",
    "var2 = 1\n",
    "for i in range(var1,1,-1):\n",
    "    var2*=i\n",
    "print(var2)    "
   ]
  },
  {
   "cell_type": "code",
   "execution_count": 8,
   "id": "53d64b09",
   "metadata": {},
   "outputs": [
    {
     "name": "stdout",
     "output_type": "stream",
     "text": [
      "10\n",
      "0 1 1 2 3 5 8 13 21 34 "
     ]
    }
   ],
   "source": [
    "# ANS 3\n",
    "num = int(input())\n",
    "var1 = 0\n",
    "var2 = 1\n",
    "for i in range(num):\n",
    "    print(var1,end=' ')\n",
    "    var1,var2=var2,var1+var2\n"
   ]
  },
  {
   "cell_type": "code",
   "execution_count": 8,
   "id": "3a87e79d",
   "metadata": {},
   "outputs": [],
   "source": [
    "# ANS 4\n",
    "# MEMORY IN PYTHON IS MANAGED DYNAMICALLY WITH PRIVATE HEAP SPACE."
   ]
  },
  {
   "cell_type": "code",
   "execution_count": 9,
   "id": "f25ca1c7",
   "metadata": {},
   "outputs": [],
   "source": [
    "# ANS 5\n",
    "# Continue statement: current iteration will be terminated right away and will continue from the\n",
    "                    #next iteration"
   ]
  },
  {
   "cell_type": "code",
   "execution_count": 11,
   "id": "36815376",
   "metadata": {},
   "outputs": [
    {
     "name": "stdout",
     "output_type": "stream",
     "text": [
      "20\n",
      "30\n",
      "num1 30\n",
      "num2 20\n"
     ]
    }
   ],
   "source": [
    "# ANS 6 \n",
    "num1 = int(input())\n",
    "num2 = int(input())\n",
    "num1,num2 = num2,num1\n",
    "print('num1',num1)\n",
    "print('num2',num2)"
   ]
  },
  {
   "cell_type": "code",
   "execution_count": 13,
   "id": "e462f8b9",
   "metadata": {},
   "outputs": [
    {
     "name": "stdout",
     "output_type": "stream",
     "text": [
      "10\n",
      "even number\n"
     ]
    }
   ],
   "source": [
    "# ANS 7\n",
    "num = int(input())\n",
    "if num % 2 == 0:\n",
    "    print('even number')\n",
    "else:\n",
    "    print('odd number')"
   ]
  },
  {
   "cell_type": "code",
   "execution_count": 17,
   "id": "bd139fff",
   "metadata": {},
   "outputs": [
    {
     "name": "stdout",
     "output_type": "stream",
     "text": [
      "o\n",
      "vowel number\n"
     ]
    }
   ],
   "source": [
    "# ANS 8\n",
    "num = (input())\n",
    "if (num=='a'or num=='e' or num=='i'or num=='o'or num=='u'):\n",
    "    print('vowel number')\n",
    "else:\n",
    "    print('no vowel number')"
   ]
  },
  {
   "cell_type": "code",
   "execution_count": 14,
   "id": "122aea60",
   "metadata": {},
   "outputs": [
    {
     "name": "stdout",
     "output_type": "stream",
     "text": [
      "5\n",
      "6\n",
      "7\n",
      "18\n"
     ]
    }
   ],
   "source": [
    "# ANS 9\n",
    "a = int(input())\n",
    "b = int(input())\n",
    "c = int(input())\n",
    "if a==b or b==c or c==a:\n",
    "    sum = 0\n",
    "else:\n",
    "    sum = a+b+c\n",
    "print(sum)    "
   ]
  },
  {
   "cell_type": "code",
   "execution_count": 22,
   "id": "030ede9f",
   "metadata": {},
   "outputs": [
    {
     "name": "stdout",
     "output_type": "stream",
     "text": [
      "10\n",
      "10\n",
      "true\n"
     ]
    }
   ],
   "source": [
    "# ANS 10\n",
    "num1 = int(input())\n",
    "num2 = int(input())\n",
    "c = num1+num2\n",
    "d = num1-num2\n",
    "if (num1 == num2 or c ==10 or d == 20):\n",
    "    print('true')\n",
    "else:\n",
    "    print('false')\n"
   ]
  },
  {
   "cell_type": "code",
   "execution_count": 4,
   "id": "1b57e2ee",
   "metadata": {},
   "outputs": [
    {
     "name": "stdout",
     "output_type": "stream",
     "text": [
      "5\n",
      "15\n"
     ]
    }
   ],
   "source": [
    "# ANS 11\n",
    "num = int(input())\n",
    "a = num+1\n",
    "b = a/2\n",
    "c = b*num\n",
    "d = int(c)\n",
    "print(d)\n"
   ]
  },
  {
   "cell_type": "code",
   "execution_count": 1,
   "id": "4a40a857",
   "metadata": {},
   "outputs": [
    {
     "name": "stdout",
     "output_type": "stream",
     "text": [
      "BONI\n",
      "4\n"
     ]
    }
   ],
   "source": [
    "# ANS 12\n",
    "string = input()\n",
    "print(len(string))"
   ]
  },
  {
   "cell_type": "code",
   "execution_count": 16,
   "id": "3af3cf70",
   "metadata": {},
   "outputs": [
    {
     "data": {
      "text/plain": [
       "2"
      ]
     },
     "execution_count": 16,
     "metadata": {},
     "output_type": "execute_result"
    }
   ],
   "source": [
    "# ANS 13\n",
    "var1 = 'frequency'\n",
    "var1.count('e')"
   ]
  },
  {
   "cell_type": "code",
   "execution_count": 26,
   "id": "990f1897",
   "metadata": {},
   "outputs": [],
   "source": [
    "# ANS 14\n",
    "#Negative index: Negative index means beginning from the end , -1 refers to the last element , -2\n",
    "                #refers to the second last element.\n",
    "#Use: It is used to count index value of the given a particular character of the string from right\n",
    "      #side to left side(-1 , -2 , -3 , -4... etc)"
   ]
  },
  {
   "cell_type": "code",
   "execution_count": 30,
   "id": "57c7e3af",
   "metadata": {},
   "outputs": [
    {
     "data": {
      "text/plain": [
       "3"
      ]
     },
     "execution_count": 30,
     "metadata": {},
     "output_type": "execute_result"
    }
   ],
   "source": [
    "# ANS 15\n",
    "var1 = 'success'\n",
    "var1.count('s')"
   ]
  },
  {
   "cell_type": "code",
   "execution_count": 2,
   "id": "a6a3996b",
   "metadata": {},
   "outputs": [
    {
     "data": {
      "text/plain": [
       "6"
      ]
     },
     "execution_count": 2,
     "metadata": {},
     "output_type": "execute_result"
    }
   ],
   "source": [
    "# ANS 16\n",
    "var1 = 'python is the best programming language in the world,python is the best programming language in the world'\n",
    "var1.count('o')\n"
   ]
  },
  {
   "cell_type": "code",
   "execution_count": 1,
   "id": "96f46597",
   "metadata": {},
   "outputs": [
    {
     "data": {
      "text/plain": [
       "'bora nival'"
      ]
     },
     "execution_count": 1,
     "metadata": {},
     "output_type": "execute_result"
    }
   ],
   "source": [
    "# ANS 17\n",
    "v1 = 'raval'\n",
    "v2 = 'boni'\n",
    "v2[0:2]+v1[0:2]+' '+v2[2:4]+v1[2:5]"
   ]
  },
  {
   "cell_type": "code",
   "execution_count": 2,
   "id": "ff5e540d",
   "metadata": {},
   "outputs": [
    {
     "name": "stdout",
     "output_type": "stream",
     "text": [
      "connecting\n",
      "connectly\n"
     ]
    }
   ],
   "source": [
    "# ANS 18\n",
    "a = input()\n",
    "if len(a) >= 3:\n",
    "    if a.endswith('ing'):\n",
    "        print(a.replace('ing','ly'))\n",
    "    else:\n",
    "        print(a + 'ing')\n",
    "else:\n",
    "    print(a)"
   ]
  },
  {
   "cell_type": "code",
   "execution_count": 5,
   "id": "93a47147",
   "metadata": {},
   "outputs": [
    {
     "data": {
      "text/plain": [
       "' i am good person'"
      ]
     },
     "execution_count": 5,
     "metadata": {},
     "output_type": "execute_result"
    }
   ],
   "source": [
    "# ANS 19\n",
    "str1 = ' i am not poor person'\n",
    "str1.replace('not poor','good')"
   ]
  },
  {
   "cell_type": "code",
   "execution_count": 4,
   "id": "4c18b008",
   "metadata": {},
   "outputs": [
    {
     "name": "stdout",
     "output_type": "stream",
     "text": [
      "enter the string boni boni\n",
      "enter the substring raval raval\n",
      "0\n"
     ]
    }
   ],
   "source": [
    "# ANS 20\n",
    "str1 = input('enter the string')\n",
    "sub_string = input('enter the substring')\n",
    "ans1 = str1.count(sub_string)\n",
    "print(ans1)"
   ]
  },
  {
   "cell_type": "code",
   "execution_count": 7,
   "id": "396d949c",
   "metadata": {},
   "outputs": [
    {
     "name": "stdout",
     "output_type": "stream",
     "text": [
      "enter the string boni boni sachin sachin\n",
      "[2, 2, 2, 2]\n"
     ]
    }
   ],
   "source": [
    "# ANS 21\n",
    "str1 = input('enter the string')\n",
    "str2 = str1.split()\n",
    "a = []\n",
    "for i in str2:\n",
    "    ans1 = str1.count(i)\n",
    "    a += [ans1]\n",
    "print(a)    "
   ]
  }
 ],
 "metadata": {
  "kernelspec": {
   "display_name": "Python 3 (ipykernel)",
   "language": "python",
   "name": "python3"
  },
  "language_info": {
   "codemirror_mode": {
    "name": "ipython",
    "version": 3
   },
   "file_extension": ".py",
   "mimetype": "text/x-python",
   "name": "python",
   "nbconvert_exporter": "python",
   "pygments_lexer": "ipython3",
   "version": "3.9.13"
  }
 },
 "nbformat": 4,
 "nbformat_minor": 5
}
