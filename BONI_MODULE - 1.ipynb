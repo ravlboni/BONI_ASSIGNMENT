{
 "cells": [
  {
   "cell_type": "code",
   "execution_count": 1,
   "id": "c3f59338",
   "metadata": {},
   "outputs": [
    {
     "name": "stdout",
     "output_type": "stream",
     "text": [
      "8\n",
      "36\n"
     ]
    }
   ],
   "source": [
    "# ANS 1 WRITE A  PYTHON PROGRAM TO SUM OF THE FIRST n POSITIVE INTEGER\n",
    "n = int(input())\n",
    "s = 0\n",
    "for i in range(1 , n+1):\n",
    "    s += i\n",
    "print(s)"
   ]
  },
  {
   "cell_type": "code",
   "execution_count": 5,
   "id": "03c4ba5f",
   "metadata": {},
   "outputs": [
    {
     "name": "stdout",
     "output_type": "stream",
     "text": [
      "enter the string boni sachin boni preet preet sachin preet\n",
      "enter the substring preet\n",
      "3\n"
     ]
    }
   ],
   "source": [
    "# ANS 2 WRITE A  PYTHON PROGRAM TO COUNT OCCERRENCES OF A SUBSTRING IN A STRING \n",
    "str1 = input('enter the string')\n",
    "sub_string = input('enter the substring')\n",
    "ans1 = str1.count(sub_string)\n",
    "print(ans1)"
   ]
  },
  {
   "cell_type": "code",
   "execution_count": 7,
   "id": "093c1d29",
   "metadata": {},
   "outputs": [
    {
     "name": "stdout",
     "output_type": "stream",
     "text": [
      "enter the string boni boni sachin sachin gurupreet\n",
      "[2, 2, 2, 2, 1]\n"
     ]
    }
   ],
   "source": [
    "# ANS 3 WRITE A PYTHON PROGRAM TO COUNT THE OCCURRENCES OF EACH WORD IN A GIVEN SENTENCE\n",
    "str1 = input('enter the string')\n",
    "str2 = str1.split()\n",
    "a = []\n",
    "for i in str2:\n",
    "    ans1 = str1.count(i)\n",
    "    a += [ans1]\n",
    "print(a)    "
   ]
  },
  {
   "cell_type": "code",
   "execution_count": 8,
   "id": "155248dc",
   "metadata": {},
   "outputs": [
    {
     "data": {
      "text/plain": [
       "'bora nival'"
      ]
     },
     "execution_count": 8,
     "metadata": {},
     "output_type": "execute_result"
    }
   ],
   "source": [
    "# ANS 4 WRITE A PYTHON PROGRAM TO GET A SINGLE STRING FROM TWO GIVEN STRING , SEPARATED BY A SPACE AND SWAP \n",
    "# THE FIRST TWO CHARACTER OF EACH STRING\n",
    "v1 = 'raval'\n",
    "v2 = 'boni'\n",
    "v2[0:2]+v1[0:2]+' '+v2[2:4]+v1[2:5]"
   ]
  },
  {
   "cell_type": "code",
   "execution_count": 2,
   "id": "b661c5b4",
   "metadata": {},
   "outputs": [
    {
     "name": "stdout",
     "output_type": "stream",
     "text": [
      "connectly\n",
      "connectlying\n"
     ]
    }
   ],
   "source": [
    "# ANS 5 WRITE A PYTHON PROGRAM TO ADD 'ING' AT THE END OF GIVEN STRING(LENGTH SHOULD BE AT LEAST 3). IF THE GIVEN STRING \n",
    "# ALREADY ENDS WITH 'ING' THEN ADD 'LY' INSTEAD IF THE STRING LENGTH OF THE GIVEN STRING ID LESS THAN 3,LEAVE IT UNCHANGED.\n",
    "a = input()\n",
    "if len(a) >= 3:\n",
    "    if a.endswith('ing'):\n",
    "        print(a.replace('ing','ly'))\n",
    "    else:\n",
    "        print(a + 'ing')\n",
    "else:\n",
    "    print(a)"
   ]
  },
  {
   "cell_type": "code",
   "execution_count": 3,
   "id": "2a1b8336",
   "metadata": {},
   "outputs": [
    {
     "data": {
      "text/plain": [
       "' i am good person'"
      ]
     },
     "execution_count": 3,
     "metadata": {},
     "output_type": "execute_result"
    }
   ],
   "source": [
    "# ANS 6 WRITE A PYTHON PROGRAM TO FIND THE FIRST APPEARANCE OF THE SUBSTRING 'NOT' AND 'POOR' FROM A GIVEN STRING.IF 'NOT'\n",
    "# FOLLOWS THE 'POOR',REPLACE THE WHOLE 'NOT'...'POOR' SUBSTRING WITH 'GOOD'.\n",
    "str1 = ' i am not poor person'\n",
    "str1.replace('not poor','good')"
   ]
  },
  {
   "cell_type": "code",
   "execution_count": 10,
   "id": "3fa2c3fa",
   "metadata": {},
   "outputs": [
    {
     "name": "stdout",
     "output_type": "stream",
     "text": [
      "GCD of 98 and 56 is 14\n"
     ]
    }
   ],
   "source": [
    "# ANS 7 PROGRAM TO FIND GCD OF TWO NUMBERS.\n",
    "#FOR EXAMPLE , THE GCD OF 20 AND 28 IS 4 AND GCD OF 98 AND 56 IS 14 \n",
    "def gcd(a,b):\n",
    "    result = min(a,b)\n",
    "    while result:\n",
    "        if a % result == 0 and b % result == 0:\n",
    "            break\n",
    "        result -= 1\n",
    "    return result \n",
    "a = 98\n",
    "b = 56\n",
    "print(f\"GCD of {a} and {b} is {gcd(a,b)}\")"
   ]
  },
  {
   "cell_type": "code",
   "execution_count": 4,
   "id": "70301aa6",
   "metadata": {},
   "outputs": [
    {
     "name": "stdout",
     "output_type": "stream",
     "text": [
      "list is present\n"
     ]
    }
   ],
   "source": [
    "# ANS 8 WRITE A PYTHON PROGRAM TO CHECK WHETHER A LIST CONTAINS A SUB LIST\n",
    "list1 = [['vikings'] , ['game of thrones'] , ['money heist'] , ['lord of the rings']]\n",
    "list2 = ['game of thrones']\n",
    "if list2 in list1:\n",
    "    print('list is present')\n",
    "else:\n",
    "    print('list is not present')"
   ]
  },
  {
   "cell_type": "code",
   "execution_count": 8,
   "id": "3aad3ecc",
   "metadata": {},
   "outputs": [
    {
     "name": "stdout",
     "output_type": "stream",
     "text": [
      "20\n"
     ]
    }
   ],
   "source": [
    "# ANS 9 WRITE A PYTHON PROGRAM TO FIND A SECOND SMALLEST NUMBER IN A LIST\n",
    "list3 = [ '10' , '30' , '20' , '40' , '60' , '50' ]\n",
    "list3.sort()\n",
    "print(list3[1])"
   ]
  },
  {
   "cell_type": "code",
   "execution_count": 10,
   "id": "5503b1f0",
   "metadata": {},
   "outputs": [
    {
     "name": "stdout",
     "output_type": "stream",
     "text": [
      "{0, 2, 3, 5, 6, 11}\n"
     ]
    }
   ],
   "source": [
    "# ANS 10 WRITE A PYTHON PROGRAM TO GET UNIQUE VALUE FROM A LIST\n",
    "list4 = [0 , 11 ,2 , 0 , 3 , 5 , 6, 2]\n",
    "d = set(list4)\n",
    "print(d)"
   ]
  },
  {
   "cell_type": "code",
   "execution_count": 15,
   "id": "0485e7ae",
   "metadata": {},
   "outputs": [
    {
     "data": {
      "text/plain": [
       "[(10, 20), (30, 40), (50, 60), (70, 80)]"
      ]
     },
     "execution_count": 15,
     "metadata": {},
     "output_type": "execute_result"
    }
   ],
   "source": [
    "# ANS 11 WRITE A PYTHON PROGRAM TO UNZIP A LIST OF TUPLES INTO INDIVIDUAL LISTS\n",
    "p = zip([10,30,50,70] , [20,40,60,80])\n",
    "list(p)"
   ]
  },
  {
   "cell_type": "code",
   "execution_count": 17,
   "id": "502b1503",
   "metadata": {},
   "outputs": [
    {
     "data": {
      "text/plain": [
       "{1: 2, 3: 4, 4: 5}"
      ]
     },
     "execution_count": 17,
     "metadata": {},
     "output_type": "execute_result"
    }
   ],
   "source": [
    "# ANS 12 WRITE A PYTHON PROGRAM TO CONVERT LIST OF TUPLES INTO A DICTIONARY\n",
    "list0 = [(1,2) ,(3,4) ,(4,5)]\n",
    "dict(list0)"
   ]
  },
  {
   "cell_type": "code",
   "execution_count": 19,
   "id": "1125d652",
   "metadata": {},
   "outputs": [
    {
     "name": "stdout",
     "output_type": "stream",
     "text": [
      "ascending= {'parth': 1, 'sagar': 23, 'yash': 12}\n",
      "descending= {'yash': 12, 'sagar': 23, 'parth': 1}\n"
     ]
    }
   ],
   "source": [
    "# ANS 13 WRITE A PYTHON PROGRAM TO SORT A DICTIONARY (ASCENDING/DESCENDING) BY VALUE\n",
    "dict10 = { 'yash' : 12 , 'sagar' : 23 , 'parth' : 1 }\n",
    "dict11 = dict12 = list(dict10.items())\n",
    "dict11.sort()\n",
    "print('ascending=' ,dict(dict11))\n",
    "dict12.sort(reverse = True)\n",
    "print('descending=' ,dict(dict12))"
   ]
  },
  {
   "cell_type": "code",
   "execution_count": 59,
   "id": "de08cee4",
   "metadata": {},
   "outputs": [
    {
     "name": "stdout",
     "output_type": "stream",
     "text": [
      "[40, 30, 20]\n"
     ]
    }
   ],
   "source": [
    "# ANS 14 WRITE A PYTHON PROGRAM TO FIND THR HIGHEST 3 VALUES IN A DICTIONARY\n",
    "dict1 = {'a' : 10 ,'b' : 20, 'c' : 30, 'd' : 40}\n",
    "a = list(dict1.values())\n",
    "a.sort(reverse=True)\n",
    "a.pop()\n",
    "print(a)"
   ]
  },
  {
   "cell_type": "code",
   "execution_count": 3,
   "id": "f2431294",
   "metadata": {},
   "outputs": [
    {
     "name": "stdout",
     "output_type": "stream",
     "text": [
      "8\n",
      "0 1 1 2 3 5 8 13 "
     ]
    }
   ],
   "source": [
    "# ANS 15 GIVEN A NUMBER N, WRITE A PYTHON PROGRAM TO MAKE AND PRINT A LIST OF FIBONACCI SERIES UP TO N.\n",
    "# INPUT:8\n",
    "# HINT: FIRST SEVEN NUMBER IN SERIES\n",
    "num = int(input())\n",
    "var1 = 0\n",
    "var2 = 1\n",
    "for i in range(num):\n",
    "    print(var1,end=' ')\n",
    "    var1,var2=var2,var1+var2\n"
   ]
  },
  {
   "cell_type": "code",
   "execution_count": 3,
   "id": "e24d884d",
   "metadata": {},
   "outputs": [
    {
     "name": "stdout",
     "output_type": "stream",
     "text": [
      "{1: 5, 5: 2, 3: 3, 4: 3, 2: 4}\n"
     ]
    }
   ],
   "source": [
    "# ANS 16 COUNTING THE FREQUENCIES IN A LIST USING A DICTIONARY IN PYTHON.\n",
    "# INPUT: [1,1,1,5,5,3,1,3,3,1,4,4,4,2,2,2,2]\n",
    "# EXPECTED OUTPUT: 1:5 , 2:4 , 3:3 , 4:3 , 5:2\n",
    "mylist = [1,1,1,5,5,3,1,3,3,1,4,4,4,2,2,2,2]\n",
    "mydict = {}\n",
    "for element in mylist:\n",
    "    if element in mydict:\n",
    "        mydict[element] += 1\n",
    "    else:\n",
    "        mydict[element] = 1\n",
    "print(mydict) "
   ]
  },
  {
   "cell_type": "code",
   "execution_count": 11,
   "id": "a72d08ff",
   "metadata": {},
   "outputs": [
    {
     "data": {
      "text/plain": [
       "24"
      ]
     },
     "execution_count": 11,
     "metadata": {},
     "output_type": "execute_result"
    }
   ],
   "source": [
    "# ANS 17 PYTHON PROGRAM TO FIND FACTORIAL OF NUMBER USING RECURSION\n",
    "def fun1(num1):\n",
    "    if num1 == 1:\n",
    "        return 1\n",
    "    else:\n",
    "        return num1 *fun1(num1-1)\n",
    "fun1(4)    "
   ]
  },
  {
   "cell_type": "code",
   "execution_count": 13,
   "id": "791c2aa5",
   "metadata": {},
   "outputs": [
    {
     "name": "stdout",
     "output_type": "stream",
     "text": [
      "[1, 2, 3, 4, 5]\n"
     ]
    }
   ],
   "source": [
    "# ANS 18 WRITE A PYTHON FUNCTION THAT TAKES A LIST AND RETURN A NEW LIST WITH UNIQUE ELEMENTS OF THE FIRST LIST.\n",
    "def unique_list(list00):\n",
    "    list11 = []\n",
    "    for a in list00:\n",
    "        if a not in list11:\n",
    "            list11.append(a)\n",
    "    return list11\n",
    "print(unique_list([1 , 2 , 3 , 3 , 3 , 3 , 4 , 5 ]))"
   ]
  },
  {
   "cell_type": "code",
   "execution_count": null,
   "id": "b4ccd24b",
   "metadata": {},
   "outputs": [],
   "source": []
  }
 ],
 "metadata": {
  "kernelspec": {
   "display_name": "Python 3 (ipykernel)",
   "language": "python",
   "name": "python3"
  },
  "language_info": {
   "codemirror_mode": {
    "name": "ipython",
    "version": 3
   },
   "file_extension": ".py",
   "mimetype": "text/x-python",
   "name": "python",
   "nbconvert_exporter": "python",
   "pygments_lexer": "ipython3",
   "version": "3.9.13"
  }
 },
 "nbformat": 4,
 "nbformat_minor": 5
}
